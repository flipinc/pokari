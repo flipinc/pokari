{
 "cells": [
  {
   "cell_type": "code",
   "execution_count": null,
   "metadata": {},
   "outputs": [],
   "source": [
    "import random\n",
    "\n",
    "import librosa\n",
    "import librosa.display\n",
    "\n",
    "import sounddevice as sd\n",
    "\n",
    "%matplotlib inline\n",
    "import matplotlib.pyplot as plt"
   ]
  },
  {
   "cell_type": "code",
   "execution_count": null,
   "metadata": {},
   "outputs": [],
   "source": [
    "def docker_dir_to_my_dir(path):    \n",
    "    segments = path.split(\"/\")\n",
    "    csj_path = \"/\".join(segments[-3:])\n",
    "    # Change this to your local directory\n",
    "    my_path = f\"/home/keisuke26/Documents/Chief/Datasets/CSJ/{csj_path}\"\n",
    "    return my_path\n",
    "\n",
    "def load_audio(path_to_tsv: str):\n",
    "    with open(path_to_tsv, \"r\") as f:\n",
    "        lines = f.readlines()\n",
    "        num_lines = len(lines)\n",
    "        target_line = lines[random.randint(0, num_lines-1)]\n",
    "        \n",
    "        path, transcript, duration, offset = target_line.split(\"\\t\")\n",
    "        path = docker_dir_to_my_dir(path)\n",
    "        wave, rate = librosa.load(\n",
    "            path,\n",
    "            sr=16000,\n",
    "            mono=True,\n",
    "            duration=float(duration),\n",
    "            offset=float(offset),\n",
    "        )\n",
    "\n",
    "    return (wave, rate), transcript"
   ]
  },
  {
   "cell_type": "code",
   "execution_count": null,
   "metadata": {},
   "outputs": [],
   "source": [
    "(wave, rate), transcript = load_audio(\"/home/keisuke26/Documents/Chief/Datasets/CSJ/csj_train.tsv\")\n",
    "\n",
    "print(f\"🏹 Target transcript:\\n\", transcript)\n",
    "\n",
    "sd.play(wave, rate)"
   ]
  },
  {
   "cell_type": "code",
   "execution_count": null,
   "metadata": {},
   "outputs": [],
   "source": [
    "plt.figure(figsize=(14, 5))\n",
    "librosa.display.waveplot(wave, sr=rate)"
   ]
  }
 ],
 "metadata": {
  "language_info": {
   "name": "python"
  },
  "orig_nbformat": 4
 },
 "nbformat": 4,
 "nbformat_minor": 2
}
